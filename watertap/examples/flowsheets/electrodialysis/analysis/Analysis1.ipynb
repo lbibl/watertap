{
 "cells": [
  {
   "cell_type": "code",
   "execution_count": null,
   "id": "b4ee5ccc",
   "metadata": {},
   "outputs": [],
   "source": [
    "import watertap.examples.flowsheets.electrodialysis.electrodialysis_1stack_conc_recirc as ef"
   ]
  },
  {
   "cell_type": "code",
   "execution_count": null,
   "id": "f83fb4b9",
   "metadata": {},
   "outputs": [],
   "source": [
    "m = ef.build()\n",
    "fd_sal=[1, 5, 15] # in g/L\n",
    "solver = get_solver()\n",
    "init_arg = {\n",
    "    (\"flow_vol_phase\", (\"Liq\")): 5.2e-4,\n",
    "    (\"conc_mol_phase_comp\", (\"Liq\", \"Na_+\")): 34.188,\n",
    "    (\"conc_mol_phase_comp\", (\"Liq\", \"Cl_-\")): 34.188,\n",
    "}  # Corresponding to C_feed = 2g/L\n",
    "m.fs.feed.properties.calculate_state(\n",
    "    init_arg,\n",
    "    hold_state=True,\n",
    ")\n",
    "m.fs.EDstack.voltage_applied[0].fix(10)\n",
    "m.fs.recovery_vol_H2O.fix(0.7)\n",
    "edfs.condition_base(m)\n",
    "check_dof(m)"
   ]
  }
 ],
 "metadata": {
  "kernelspec": {
   "display_name": "Python 3 (ipykernel)",
   "language": "python",
   "name": "python3"
  },
  "language_info": {
   "codemirror_mode": {
    "name": "ipython",
    "version": 3
   },
   "file_extension": ".py",
   "mimetype": "text/x-python",
   "name": "python",
   "nbconvert_exporter": "python",
   "pygments_lexer": "ipython3",
   "version": "3.10.8"
  }
 },
 "nbformat": 4,
 "nbformat_minor": 5
}
